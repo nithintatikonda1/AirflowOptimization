{
 "cells": [
  {
   "cell_type": "code",
   "execution_count": 1,
   "metadata": {},
   "outputs": [],
   "source": [
    "import pickle\n",
    "from pprint import pprint\n",
    "import psycopg2"
   ]
  },
  {
   "cell_type": "code",
   "execution_count": 12,
   "metadata": {},
   "outputs": [
    {
     "name": "stdout",
     "output_type": "stream",
     "text": [
      "Files: ./include/dag_timings/example_timing_logs.pkl, ./include/dag_timings/example_task_durations.pkl\n",
      "READ COSTS:\n",
      "{'distant_example_high_read_cost': {'task5': {('xcom', 'amount'): 0.003681659698486328}},\n",
      " 'example': {'dispense20': {('xcom', 'amount', 'read'): 0.0034945011138916016}}}\n",
      "TOTAL COSTS:\n",
      "{'distant_example_high_read_cost': {'task1': 1.3530879999999998,\n",
      "                                    'task2': 1.2573460000000003,\n",
      "                                    'task3': 1.3690200000000001,\n",
      "                                    'task4': 1.046855,\n",
      "                                    'task5': 1.174066,\n",
      "                                    'task6': 1.2911190000000001},\n",
      " 'example': {'dispense20': 0.358372, 'dispense50': 0.460421}}\n"
     ]
    }
   ],
   "source": [
    "dag_ids = ['stock']\n",
    "READ_COST_TEMPLATE = \"./include/dag_timings/{}_timing_logs.pkl\"\n",
    "TOTAL_COST_TEMPLATE = \"./include/dag_timings/{}_task_durations.pkl\"\n",
    "\n",
    "read_costs = {}\n",
    "total_costs = {}\n",
    "for dag_id in dag_ids:\n",
    "    read_cost_file = READ_COST_TEMPLATE.format(dag_id)\n",
    "    total_cost_file = TOTAL_COST_TEMPLATE.format(dag_id)\n",
    "    with open(read_cost_file, \"rb\") as f:\n",
    "        loaded_data = pickle.load(f)\n",
    "        read_costs[dag_id] = loaded_data\n",
    "    with open(total_cost_file, \"rb\") as f:\n",
    "        loaded_data = pickle.load(f)\n",
    "        total_costs[dag_id] = loaded_data\n",
    "\n",
    "print(f\"Files: {read_cost_file}, {total_cost_file}\")\n",
    "print('READ COSTS:')\n",
    "pprint(read_costs)\n",
    "print('TOTAL COSTS:')\n",
    "pprint(total_costs)\n"
   ]
  },
  {
   "cell_type": "code",
   "execution_count": 8,
   "metadata": {},
   "outputs": [
    {
     "ename": "OperationalError",
     "evalue": "could not connect to server: Connection refused\n\tIs the server running on host \"localhost\" (127.0.0.1) and accepting\n\tTCP/IP connections on port 5432?\ncould not connect to server: Connection refused\n\tIs the server running on host \"localhost\" (::1) and accepting\n\tTCP/IP connections on port 5432?\n",
     "output_type": "error",
     "traceback": [
      "\u001b[0;31m---------------------------------------------------------------------------\u001b[0m",
      "\u001b[0;31mOperationalError\u001b[0m                          Traceback (most recent call last)",
      "Cell \u001b[0;32mIn[8], line 9\u001b[0m\n\u001b[1;32m      1\u001b[0m dag_id \u001b[38;5;241m=\u001b[39m \u001b[38;5;124m'\u001b[39m\u001b[38;5;124mexample\u001b[39m\u001b[38;5;124m'\u001b[39m\n\u001b[1;32m      2\u001b[0m POSTGRES_CONFIG \u001b[38;5;241m=\u001b[39m {\n\u001b[1;32m      3\u001b[0m     \u001b[38;5;124m'\u001b[39m\u001b[38;5;124mdbname\u001b[39m\u001b[38;5;124m'\u001b[39m: \u001b[38;5;124m'\u001b[39m\u001b[38;5;124mpostgres\u001b[39m\u001b[38;5;124m'\u001b[39m,\n\u001b[1;32m      4\u001b[0m     \u001b[38;5;124m'\u001b[39m\u001b[38;5;124muser\u001b[39m\u001b[38;5;124m'\u001b[39m: \u001b[38;5;124m'\u001b[39m\u001b[38;5;124mpostgres\u001b[39m\u001b[38;5;124m'\u001b[39m,\n\u001b[0;32m   (...)\u001b[0m\n\u001b[1;32m      7\u001b[0m     \u001b[38;5;124m'\u001b[39m\u001b[38;5;124mport\u001b[39m\u001b[38;5;124m'\u001b[39m: \u001b[38;5;241m5432\u001b[39m,\n\u001b[1;32m      8\u001b[0m }\n\u001b[0;32m----> 9\u001b[0m conn \u001b[38;5;241m=\u001b[39m \u001b[43mpsycopg2\u001b[49m\u001b[38;5;241;43m.\u001b[39;49m\u001b[43mconnect\u001b[49m\u001b[43m(\u001b[49m\u001b[38;5;241;43m*\u001b[39;49m\u001b[38;5;241;43m*\u001b[39;49m\u001b[43mPOSTGRES_CONFIG\u001b[49m\u001b[43m)\u001b[49m\n\u001b[1;32m     11\u001b[0m query \u001b[38;5;241m=\u001b[39m \u001b[38;5;124m\"\"\"\u001b[39m\n\u001b[1;32m     12\u001b[0m \u001b[38;5;124m        SELECT *\u001b[39m\n\u001b[1;32m     13\u001b[0m \u001b[38;5;124m        FROM task_instance\u001b[39m\n\u001b[1;32m     14\u001b[0m \u001b[38;5;124m        WHERE dag_id = \u001b[39m\u001b[38;5;132;01m%s\u001b[39;00m\n\u001b[1;32m     15\u001b[0m \u001b[38;5;124m        LIMIT 1;\u001b[39m\n\u001b[1;32m     16\u001b[0m \u001b[38;5;124m    \u001b[39m\u001b[38;5;124m\"\"\"\u001b[39m\n\u001b[1;32m     17\u001b[0m \u001b[38;5;28;01mwith\u001b[39;00m conn\u001b[38;5;241m.\u001b[39mcursor() \u001b[38;5;28;01mas\u001b[39;00m cur:\n",
      "File \u001b[0;32m~/anaconda3/lib/python3.10/site-packages/psycopg2/__init__.py:122\u001b[0m, in \u001b[0;36mconnect\u001b[0;34m(dsn, connection_factory, cursor_factory, **kwargs)\u001b[0m\n\u001b[1;32m    119\u001b[0m     kwasync[\u001b[38;5;124m'\u001b[39m\u001b[38;5;124masync_\u001b[39m\u001b[38;5;124m'\u001b[39m] \u001b[38;5;241m=\u001b[39m kwargs\u001b[38;5;241m.\u001b[39mpop(\u001b[38;5;124m'\u001b[39m\u001b[38;5;124masync_\u001b[39m\u001b[38;5;124m'\u001b[39m)\n\u001b[1;32m    121\u001b[0m dsn \u001b[38;5;241m=\u001b[39m _ext\u001b[38;5;241m.\u001b[39mmake_dsn(dsn, \u001b[38;5;241m*\u001b[39m\u001b[38;5;241m*\u001b[39mkwargs)\n\u001b[0;32m--> 122\u001b[0m conn \u001b[38;5;241m=\u001b[39m \u001b[43m_connect\u001b[49m\u001b[43m(\u001b[49m\u001b[43mdsn\u001b[49m\u001b[43m,\u001b[49m\u001b[43m \u001b[49m\u001b[43mconnection_factory\u001b[49m\u001b[38;5;241;43m=\u001b[39;49m\u001b[43mconnection_factory\u001b[49m\u001b[43m,\u001b[49m\u001b[43m \u001b[49m\u001b[38;5;241;43m*\u001b[39;49m\u001b[38;5;241;43m*\u001b[39;49m\u001b[43mkwasync\u001b[49m\u001b[43m)\u001b[49m\n\u001b[1;32m    123\u001b[0m \u001b[38;5;28;01mif\u001b[39;00m cursor_factory \u001b[38;5;129;01mis\u001b[39;00m \u001b[38;5;129;01mnot\u001b[39;00m \u001b[38;5;28;01mNone\u001b[39;00m:\n\u001b[1;32m    124\u001b[0m     conn\u001b[38;5;241m.\u001b[39mcursor_factory \u001b[38;5;241m=\u001b[39m cursor_factory\n",
      "\u001b[0;31mOperationalError\u001b[0m: could not connect to server: Connection refused\n\tIs the server running on host \"localhost\" (127.0.0.1) and accepting\n\tTCP/IP connections on port 5432?\ncould not connect to server: Connection refused\n\tIs the server running on host \"localhost\" (::1) and accepting\n\tTCP/IP connections on port 5432?\n"
     ]
    }
   ],
   "source": [
    "dag_id = 'example'\n",
    "POSTGRES_CONFIG = {\n",
    "    'dbname': 'postgres',\n",
    "    'user': 'postgres',\n",
    "    'password': 'postgres',\n",
    "    'host': 'localhost',  # will be updated dynamically to point to container IP\n",
    "    'port': 5432,\n",
    "}\n",
    "conn = psycopg2.connect(**POSTGRES_CONFIG)\n",
    "\n",
    "query = \"\"\"\n",
    "        SELECT *\n",
    "        FROM task_instance\n",
    "        WHERE dag_id = %s\n",
    "        LIMIT 1;\n",
    "    \"\"\"\n",
    "with conn.cursor() as cur:\n",
    "    cur.execute(query, (dag_id,))\n",
    "    results = cur.fetchall()\n",
    "    column_names = [desc[0] for desc in cur.description]\n",
    "\n",
    "conn.close()\n",
    "results"
   ]
  }
 ],
 "metadata": {
  "kernelspec": {
   "display_name": "base",
   "language": "python",
   "name": "python3"
  },
  "language_info": {
   "codemirror_mode": {
    "name": "ipython",
    "version": 3
   },
   "file_extension": ".py",
   "mimetype": "text/x-python",
   "name": "python",
   "nbconvert_exporter": "python",
   "pygments_lexer": "ipython3",
   "version": "3.10.9"
  }
 },
 "nbformat": 4,
 "nbformat_minor": 2
}
