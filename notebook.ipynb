{
 "cells": [
  {
   "cell_type": "code",
   "execution_count": 1,
   "metadata": {},
   "outputs": [],
   "source": [
    "import pickle\n",
    "from pprint import pprint\n",
    "import psycopg2"
   ]
  },
  {
   "cell_type": "code",
   "execution_count": 3,
   "metadata": {},
   "outputs": [
    {
     "name": "stdout",
     "output_type": "stream",
     "text": [
      "Files: ./include/dag_timings/s3_upload_copy_timing_logs.pkl, ./include/dag_timings/s3_upload_copy_task_durations.pkl\n",
      "READ COSTS:\n",
      "{'s3_upload_copy': {}}\n",
      "TOTAL COSTS:\n",
      "{'s3_upload_copy': {'copy_your_name_here_file_0': 2.9717460000000004,\n",
      "                    'copy_your_name_here_file_1': 2.962987,\n",
      "                    'copy_your_name_here_file_2': 4.054346,\n",
      "                    'copy_your_name_here_file_3': 2.934907,\n",
      "                    'copy_your_name_here_file_4': 2.936482,\n",
      "                    'copy_your_name_here_file_5': 4.009849999999999,\n",
      "                    'copy_your_name_here_file_6': 2.957812,\n",
      "                    'copy_your_name_here_file_7': 2.94966,\n",
      "                    'copy_your_name_here_file_8': 2.9590170000000002,\n",
      "                    'copy_your_name_here_file_9': 2.9354690000000003,\n",
      "                    'generate_file_your_name_here_0': 3.4654030000000002,\n",
      "                    'generate_file_your_name_here_1': 3.670889,\n",
      "                    'generate_file_your_name_here_2': 3.5289580000000003,\n",
      "                    'generate_file_your_name_here_3': 3.757297,\n",
      "                    'generate_file_your_name_here_4': 3.4587619999999997,\n",
      "                    'generate_file_your_name_here_5': 3.48503,\n",
      "                    'generate_file_your_name_here_6': 3.4514039999999997,\n",
      "                    'generate_file_your_name_here_7': 3.4652,\n",
      "                    'generate_file_your_name_here_8': 3.4271710000000004,\n",
      "                    'generate_file_your_name_here_9': 3.4537389999999997,\n",
      "                    'start': 0.0}}\n"
     ]
    }
   ],
   "source": [
    "dag_ids = ['FinSum_OpenAI']\n",
    "READ_COST_TEMPLATE = \"./include/dag_timings/{}_timing_logs.pkl\"\n",
    "TOTAL_COST_TEMPLATE = \"./include/dag_timings/{}_task_durations.pkl\"\n",
    "\n",
    "read_costs = {}\n",
    "total_costs = {}\n",
    "for dag_id in dag_ids:\n",
    "    read_cost_file = READ_COST_TEMPLATE.format(dag_id)\n",
    "    total_cost_file = TOTAL_COST_TEMPLATE.format(dag_id)\n",
    "    with open(read_cost_file, \"rb\") as f:\n",
    "        loaded_data = pickle.load(f)\n",
    "        read_costs[dag_id] = loaded_data\n",
    "    with open(total_cost_file, \"rb\") as f:\n",
    "        loaded_data = pickle.load(f)\n",
    "        total_costs[dag_id] = loaded_data\n",
    "\n",
    "print(f\"Files: {read_cost_file}, {total_cost_file}\")\n",
    "print('READ COSTS:')\n",
    "pprint(read_costs)\n",
    "print('TOTAL COSTS:')\n",
    "pprint(total_costs)\n"
   ]
  },
  {
   "cell_type": "code",
   "execution_count": 2,
   "metadata": {},
   "outputs": [],
   "source": [
    "dag_id = 'example'\n",
    "POSTGRES_CONFIG = {\n",
    "    'dbname': 'postgres',\n",
    "    'user': 'postgres',\n",
    "    'password': 'postgres',\n",
    "    'host': 'localhost',  # will be updated dynamically to point to container IP\n",
    "    'port': 5432,\n",
    "}"
   ]
  },
  {
   "cell_type": "code",
   "execution_count": 14,
   "metadata": {},
   "outputs": [
    {
     "data": {
      "text/plain": [
       "[('split', 2.331185),\n",
       " ('vectorize_summaries', 0.06823270000000001),\n",
       " ('summarize_openai', 452.12073166666664),\n",
       " ('extract', 22.02540433333333),\n",
       " ('vectorize_chunks', 168.19104233333334)]"
      ]
     },
     "execution_count": 14,
     "metadata": {},
     "output_type": "execute_result"
    }
   ],
   "source": [
    "conn = psycopg2.connect(**POSTGRES_CONFIG)\n",
    "\n",
    "dag_id = 'FinSum_OpenAI'\n",
    "query = \"\"\"\n",
    "        SELECT task_id, AVG(duration) as total_duration\n",
    "        FROM task_instance\n",
    "        WHERE dag_id = %s AND state = 'success'\n",
    "        GROUP BY task_id;\n",
    "    \"\"\"\n",
    "with conn.cursor() as cur:\n",
    "    cur.execute(query, (dag_id,))\n",
    "    results = cur.fetchall()\n",
    "    column_names = [desc[0] for desc in cur.description]\n",
    "\n",
    "conn.close()\n",
    "results"
   ]
  },
  {
   "cell_type": "code",
   "execution_count": 11,
   "metadata": {},
   "outputs": [
    {
     "ename": "TypeError",
     "evalue": "'NoneType' object is not subscriptable",
     "output_type": "error",
     "traceback": [
      "\u001b[0;31m---------------------------------------------------------------------------\u001b[0m",
      "\u001b[0;31mTypeError\u001b[0m                                 Traceback (most recent call last)",
      "Cell \u001b[0;32mIn[11], line 6\u001b[0m\n\u001b[1;32m      4\u001b[0m     state \u001b[38;5;241m=\u001b[39m cur\u001b[38;5;241m.\u001b[39mfetchone()\n\u001b[1;32m      5\u001b[0m conn\u001b[38;5;241m.\u001b[39mclose()\n\u001b[0;32m----> 6\u001b[0m \u001b[38;5;28mprint\u001b[39m(\u001b[43mstate\u001b[49m\u001b[43m[\u001b[49m\u001b[38;5;241;43m0\u001b[39;49m\u001b[43m]\u001b[49m)\n",
      "\u001b[0;31mTypeError\u001b[0m: 'NoneType' object is not subscriptable"
     ]
    }
   ],
   "source": [
    "conn = psycopg2.connect(**POSTGRES_CONFIG)\n",
    "with conn.cursor() as cur:\n",
    "    cur.execute(\"SELECT state FROM dag_run WHERE dag_id = %s ORDER BY execution_date DESC LIMIT 1\", ('blah',))\n",
    "    state = cur.fetchone()\n",
    "conn.close()\n",
    "print(state[0])"
   ]
  }
 ],
 "metadata": {
  "kernelspec": {
   "display_name": "base",
   "language": "python",
   "name": "python3"
  },
  "language_info": {
   "codemirror_mode": {
    "name": "ipython",
    "version": 3
   },
   "file_extension": ".py",
   "mimetype": "text/x-python",
   "name": "python",
   "nbconvert_exporter": "python",
   "pygments_lexer": "ipython3",
   "version": "3.10.9"
  }
 },
 "nbformat": 4,
 "nbformat_minor": 2
}
