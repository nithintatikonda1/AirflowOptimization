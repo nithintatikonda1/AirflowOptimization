{
 "cells": [
  {
   "cell_type": "code",
   "execution_count": 16,
   "metadata": {},
   "outputs": [],
   "source": [
    "import pickle\n",
    "from pprint import pprint\n",
    "import psycopg2"
   ]
  },
  {
   "cell_type": "code",
   "execution_count": 13,
   "metadata": {},
   "outputs": [
    {
     "name": "stdout",
     "output_type": "stream",
     "text": [
      "Files: ./include/dag_timings/telephone_game_1_timing_logs.pkl, ./include/dag_timings/telephone_game_1_task_durations.pkl\n",
      "READ COSTS:\n",
      "{'telephone_game_1': {'downstream': {('xcom', 'result', 'write'): 0.003763914108276367,\n",
      "                                     ('xcom', 'word', 'read'): 0.003027200698852539},\n",
      "                      'misunderstand_task1': {('xcom', 'word', 'read'): 0.0031697750091552734,\n",
      "                                              ('xcom', 'word', 'write'): 0.004046440124511719},\n",
      "                      'misunderstand_task2': {('xcom', 'word', 'read'): 0.003055572509765625,\n",
      "                                              ('xcom', 'word', 'write'): 0.003634214401245117},\n",
      "                      'misunderstand_task3': {('xcom', 'word', 'read'): 0.003234386444091797,\n",
      "                                              ('xcom', 'word', 'write'): 0.004078388214111328},\n",
      "                      'misunderstand_task4': {('xcom', 'word', 'read'): 0.0029914379119873047,\n",
      "                                              ('xcom', 'word', 'write'): 0.0037696361541748047},\n",
      "                      'upstream': {('xcom', 'word', 'write'): 0.003907918930053711}}}\n",
      "TOTAL COSTS:\n",
      "{'telephone_game_1': {'downstream': 0.14653,\n",
      "                      'misunderstand_task1': 0.155864,\n",
      "                      'misunderstand_task2': 0.176841,\n",
      "                      'misunderstand_task3': 0.152239,\n",
      "                      'misunderstand_task4': 0.150345,\n",
      "                      'upstream': 0.18159}}\n"
     ]
    }
   ],
   "source": [
    "dag_ids = ['s3_upload']\n",
    "READ_COST_TEMPLATE = \"./include/dag_timings/{}_timing_logs.pkl\"\n",
    "TOTAL_COST_TEMPLATE = \"./include/dag_timings/{}_task_durations.pkl\"\n",
    "\n",
    "read_costs = {}\n",
    "total_costs = {}\n",
    "for dag_id in dag_ids:\n",
    "    read_cost_file = READ_COST_TEMPLATE.format(dag_id)\n",
    "    total_cost_file = TOTAL_COST_TEMPLATE.format(dag_id)\n",
    "    with open(read_cost_file, \"rb\") as f:\n",
    "        loaded_data = pickle.load(f)\n",
    "        read_costs[dag_id] = loaded_data\n",
    "    with open(total_cost_file, \"rb\") as f:\n",
    "        loaded_data = pickle.load(f)\n",
    "        total_costs[dag_id] = loaded_data\n",
    "\n",
    "print(f\"Files: {read_cost_file}, {total_cost_file}\")\n",
    "print('READ COSTS:')\n",
    "pprint(read_costs)\n",
    "print('TOTAL COSTS:')\n",
    "pprint(total_costs)\n"
   ]
  },
  {
   "cell_type": "code",
   "execution_count": 2,
   "metadata": {},
   "outputs": [],
   "source": [
    "dag_id = 'example'\n",
    "POSTGRES_CONFIG = {\n",
    "    'dbname': 'postgres',\n",
    "    'user': 'postgres',\n",
    "    'password': 'postgres',\n",
    "    'host': 'localhost',  # will be updated dynamically to point to container IP\n",
    "    'port': 5432,\n",
    "}"
   ]
  },
  {
   "cell_type": "code",
   "execution_count": 14,
   "metadata": {},
   "outputs": [
    {
     "data": {
      "text/plain": [
       "[('split', 2.331185),\n",
       " ('vectorize_summaries', 0.06823270000000001),\n",
       " ('summarize_openai', 452.12073166666664),\n",
       " ('extract', 22.02540433333333),\n",
       " ('vectorize_chunks', 168.19104233333334)]"
      ]
     },
     "execution_count": 14,
     "metadata": {},
     "output_type": "execute_result"
    }
   ],
   "source": [
    "conn = psycopg2.connect(**POSTGRES_CONFIG)\n",
    "\n",
    "dag_id = 'FinSum_OpenAI'\n",
    "query = \"\"\"\n",
    "        SELECT task_id, AVG(duration) as total_duration\n",
    "        FROM task_instance\n",
    "        WHERE dag_id = %s AND state = 'success'\n",
    "        GROUP BY task_id;\n",
    "    \"\"\"\n",
    "with conn.cursor() as cur:\n",
    "    cur.execute(query, (dag_id,))\n",
    "    results = cur.fetchall()\n",
    "    column_names = [desc[0] for desc in cur.description]\n",
    "\n",
    "conn.close()\n",
    "results"
   ]
  },
  {
   "cell_type": "code",
   "execution_count": 11,
   "metadata": {},
   "outputs": [
    {
     "ename": "TypeError",
     "evalue": "'NoneType' object is not subscriptable",
     "output_type": "error",
     "traceback": [
      "\u001b[0;31m---------------------------------------------------------------------------\u001b[0m",
      "\u001b[0;31mTypeError\u001b[0m                                 Traceback (most recent call last)",
      "Cell \u001b[0;32mIn[11], line 6\u001b[0m\n\u001b[1;32m      4\u001b[0m     state \u001b[38;5;241m=\u001b[39m cur\u001b[38;5;241m.\u001b[39mfetchone()\n\u001b[1;32m      5\u001b[0m conn\u001b[38;5;241m.\u001b[39mclose()\n\u001b[0;32m----> 6\u001b[0m \u001b[38;5;28mprint\u001b[39m(\u001b[43mstate\u001b[49m\u001b[43m[\u001b[49m\u001b[38;5;241;43m0\u001b[39;49m\u001b[43m]\u001b[49m)\n",
      "\u001b[0;31mTypeError\u001b[0m: 'NoneType' object is not subscriptable"
     ]
    }
   ],
   "source": [
    "conn = psycopg2.connect(**POSTGRES_CONFIG)\n",
    "with conn.cursor() as cur:\n",
    "    cur.execute(\"SELECT state FROM dag_run WHERE dag_id = %s ORDER BY execution_date DESC LIMIT 1\", ('blah',))\n",
    "    state = cur.fetchone()\n",
    "conn.close()\n",
    "print(state[0])"
   ]
  },
  {
   "cell_type": "code",
   "execution_count": 17,
   "metadata": {},
   "outputs": [
    {
     "ename": "FileNotFoundError",
     "evalue": "[Errno 2] No such file or directory: './include/s3_upload.pkl'",
     "output_type": "error",
     "traceback": [
      "\u001b[0;31m---------------------------------------------------------------------------\u001b[0m",
      "\u001b[0;31mFileNotFoundError\u001b[0m                         Traceback (most recent call last)",
      "Cell \u001b[0;32mIn[17], line 3\u001b[0m\n\u001b[1;32m      1\u001b[0m \u001b[38;5;66;03m#Print contenets from pkl file\u001b[39;00m\n\u001b[1;32m      2\u001b[0m \u001b[38;5;28;01mimport\u001b[39;00m \u001b[38;5;21;01mpickle\u001b[39;00m\n\u001b[0;32m----> 3\u001b[0m \u001b[38;5;28;01mwith\u001b[39;00m \u001b[38;5;28;43mopen\u001b[39;49m\u001b[43m(\u001b[49m\u001b[38;5;124;43m'\u001b[39;49m\u001b[38;5;124;43m./include/s3_upload.pkl\u001b[39;49m\u001b[38;5;124;43m'\u001b[39;49m\u001b[43m,\u001b[49m\u001b[43m \u001b[49m\u001b[38;5;124;43m'\u001b[39;49m\u001b[38;5;124;43mrb\u001b[39;49m\u001b[38;5;124;43m'\u001b[39;49m\u001b[43m)\u001b[49m \u001b[38;5;28;01mas\u001b[39;00m f:\n\u001b[1;32m      4\u001b[0m     loaded_data \u001b[38;5;241m=\u001b[39m pickle\u001b[38;5;241m.\u001b[39mload(f)\n\u001b[1;32m      5\u001b[0m     \u001b[38;5;28mprint\u001b[39m(loaded_data)\n",
      "File \u001b[0;32m~/anaconda3/lib/python3.10/site-packages/IPython/core/interactiveshell.py:282\u001b[0m, in \u001b[0;36m_modified_open\u001b[0;34m(file, *args, **kwargs)\u001b[0m\n\u001b[1;32m    275\u001b[0m \u001b[38;5;28;01mif\u001b[39;00m file \u001b[38;5;129;01min\u001b[39;00m {\u001b[38;5;241m0\u001b[39m, \u001b[38;5;241m1\u001b[39m, \u001b[38;5;241m2\u001b[39m}:\n\u001b[1;32m    276\u001b[0m     \u001b[38;5;28;01mraise\u001b[39;00m \u001b[38;5;167;01mValueError\u001b[39;00m(\n\u001b[1;32m    277\u001b[0m         \u001b[38;5;124mf\u001b[39m\u001b[38;5;124m\"\u001b[39m\u001b[38;5;124mIPython won\u001b[39m\u001b[38;5;124m'\u001b[39m\u001b[38;5;124mt let you open fd=\u001b[39m\u001b[38;5;132;01m{\u001b[39;00mfile\u001b[38;5;132;01m}\u001b[39;00m\u001b[38;5;124m by default \u001b[39m\u001b[38;5;124m\"\u001b[39m\n\u001b[1;32m    278\u001b[0m         \u001b[38;5;124m\"\u001b[39m\u001b[38;5;124mas it is likely to crash IPython. If you know what you are doing, \u001b[39m\u001b[38;5;124m\"\u001b[39m\n\u001b[1;32m    279\u001b[0m         \u001b[38;5;124m\"\u001b[39m\u001b[38;5;124myou can use builtins\u001b[39m\u001b[38;5;124m'\u001b[39m\u001b[38;5;124m open.\u001b[39m\u001b[38;5;124m\"\u001b[39m\n\u001b[1;32m    280\u001b[0m     )\n\u001b[0;32m--> 282\u001b[0m \u001b[38;5;28;01mreturn\u001b[39;00m \u001b[43mio_open\u001b[49m\u001b[43m(\u001b[49m\u001b[43mfile\u001b[49m\u001b[43m,\u001b[49m\u001b[43m \u001b[49m\u001b[38;5;241;43m*\u001b[39;49m\u001b[43margs\u001b[49m\u001b[43m,\u001b[49m\u001b[43m \u001b[49m\u001b[38;5;241;43m*\u001b[39;49m\u001b[38;5;241;43m*\u001b[39;49m\u001b[43mkwargs\u001b[49m\u001b[43m)\u001b[49m\n",
      "\u001b[0;31mFileNotFoundError\u001b[0m: [Errno 2] No such file or directory: './include/s3_upload.pkl'"
     ]
    }
   ],
   "source": [
    "#Print contenets from pkl file\n",
    "import pickle\n",
    "with open('./include/s3_upload.pkl', 'rb') as f:\n",
    "    loaded_data = pickle.load(f)\n",
    "    print(loaded_data)"
   ]
  }
 ],
 "metadata": {
  "kernelspec": {
   "display_name": "base",
   "language": "python",
   "name": "python3"
  },
  "language_info": {
   "codemirror_mode": {
    "name": "ipython",
    "version": 3
   },
   "file_extension": ".py",
   "mimetype": "text/x-python",
   "name": "python",
   "nbconvert_exporter": "python",
   "pygments_lexer": "ipython3",
   "version": "3.10.9"
  }
 },
 "nbformat": 4,
 "nbformat_minor": 2
}
